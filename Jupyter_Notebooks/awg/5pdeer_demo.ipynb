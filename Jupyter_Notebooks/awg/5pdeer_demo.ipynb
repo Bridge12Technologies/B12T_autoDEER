{
 "cells": [
  {
   "cell_type": "markdown",
   "metadata": {},
   "source": [
    "# 5pDEER DEMO\n",
    " The aim of this script is to set out the basic design/implemntaion for running incoherent pump pulses on the C Floor AWG."
   ]
  },
  {
   "cell_type": "markdown",
   "metadata": {},
   "source": []
  },
  {
   "cell_type": "code",
   "execution_count": 1,
   "metadata": {},
   "outputs": [],
   "source": [
    "import numpy as np\n",
    "import matplotlib.pyplot as plt\n",
    "import autoDeer.hardware.keysight_awg as ksawg\n",
    "import autoDeer.hardware.pulses as pulses\n",
    "import autoDeer.hardware.xepr_experiments as exp\n",
    "from autoDeer.ResPro import resonatorProfile\n",
    "from autoDeer.FieldSweep import FieldSweep\n",
    "from autoDeer.hardware import xepr_api as api\n",
    "import autoDeer.Param_Optimization as po\n",
    "import time\n"
   ]
  },
  {
   "cell_type": "markdown",
   "metadata": {},
   "source": [
    "## Setup"
   ]
  },
  {
   "cell_type": "markdown",
   "metadata": {},
   "source": [
    "### Connecting to the AWG\n",
    "The Sequencing mode on both channels should be \"STSC\""
   ]
  },
  {
   "cell_type": "code",
   "execution_count": 2,
   "metadata": {},
   "outputs": [
    {
     "name": "stdout",
     "output_type": "stream",
     "text": [
      "Socket Created\n",
      "Identification String: b'Agilent Technologies,M8190A,DE52200268,5.0.14.0-2\\n'\n",
      "Checking Sequencing mode:\n"
     ]
    }
   ],
   "source": [
    "awg = ksawg.Interface()\n",
    "awg.open_con('129.132.218.87')\n",
    "awg._inst_init()\n",
    "print(\"Checking Sequencing mode:\")\n",
    "awg.getFunctionMode(3)\n",
    "sampling_freq = 12e9\n",
    "sampling_period = 1/sampling_freq\n",
    "grad = 64\n"
   ]
  },
  {
   "cell_type": "markdown",
   "metadata": {},
   "source": [
    "## Connecting to Bruker"
   ]
  },
  {
   "cell_type": "code",
   "execution_count": null,
   "metadata": {},
   "outputs": [],
   "source": [
    "xepr=api() # This can only be run once per kernel\n",
    "xepr.find_Xepr()\n",
    "xepr.find_cur_exp()\n",
    "xepr.find_hidden()"
   ]
  },
  {
   "cell_type": "markdown",
   "metadata": {},
   "source": [
    "## Resonator Profile\n",
    "\n",
    "Go to the central frequency of the dip.\n",
    "Find the rough field maximum and tune +-\\<x\\> channels for 16ns pulses"
   ]
  },
  {
   "cell_type": "code",
   "execution_count": null,
   "metadata": {},
   "outputs": [],
   "source": [
    "exp.run_general(xepr,\n",
    "    [\"/PulseSpel/HUKA_DEER_AWG\"],\n",
    "    [\"Field Sweep +<x>/-<x> pg=200ns\",\"Field sweep +<x>/-<x>\"],\n",
    "    {\"PhaseCycle\":False},\n",
    "    {\"p0\":16,\"p1\":16,\"h\":20,\"n\":2})\n",
    "\n",
    "fs_data = xepr.acquire_scan()\n",
    "fs = FieldSweep()\n",
    "fs.import_from_dataclass(fs_data)\n",
    "fs.find_max()\n",
    "\n",
    "xepr.set_field(fs.field_max)\n",
    "Bc = xepr.get_field()\n",
    "fc = xepr.get_counterfreq()\n",
    "\n",
    "fs.plot()"
   ]
  },
  {
   "cell_type": "markdown",
   "metadata": {},
   "source": [
    "Confirm that two consecutative nutation experiments produce the same result. This confirms that everythinhg is set up correctly."
   ]
  },
  {
   "cell_type": "code",
   "execution_count": null,
   "metadata": {},
   "outputs": [],
   "source": [
    "exp.run_general(xepr,\n",
    "    [\"/PulseSpel/HUKA_DEER_AWG\"],\n",
    "    [\"AWG seq inv (p2)\",\"AWG +-<x> obs\"],\n",
    "    {\"PhaseCycle\":True},\n",
    "    {\"p0\":16,\"p1\":16,\"h\":20,\"n\":1},False)\n",
    "xepr.run_exp()\n",
    "run1 = xepr.acquire_scan()\n",
    "\n",
    "xepr.run_exp()\n",
    "run2 = xepr.acquire_scan()\n",
    "plt.plot(run1.time,np.real(run1.data),\n",
    "        run2.time,np.real(run2.data))\n",
    "plt.legend()"
   ]
  },
  {
   "cell_type": "markdown",
   "metadata": {},
   "source": [
    "Now run the resonator profile script"
   ]
  },
  {
   "cell_type": "code",
   "execution_count": null,
   "metadata": {},
   "outputs": [],
   "source": [
    "t,nutation_data = exp.get_nutations(xepr,\n",
    "                                    nu=[33, 34],\n",
    "                                    field=[fc,Bc],\n",
    "                                    step=20e-3)"
   ]
  },
  {
   "cell_type": "markdown",
   "metadata": {},
   "source": [
    "Finding and fitting the resonantor profile"
   ]
  },
  {
   "cell_type": "code",
   "execution_count": null,
   "metadata": {},
   "outputs": [],
   "source": [
    "rp = resonatorProfile()\n",
    "res_prof = rp.calc_res_prof(nutation_data,dt=t[1]-t[0])\n",
    "rp.autofit([33,35])\n",
    "rp.calculate_shape(res_prof,None)\n",
    "rp.calc_IF_prof(2,rp.fc,type='fit')\n",
    "rp.res_prof_plot([33,35])\n"
   ]
  },
  {
   "cell_type": "markdown",
   "metadata": {},
   "source": [
    "Now go to the calculated fc, and do another field sweep. This is the new central frequency"
   ]
  },
  {
   "cell_type": "code",
   "execution_count": null,
   "metadata": {},
   "outputs": [],
   "source": [
    "exp.run_general(xepr,\n",
    "    [\"/PulseSpel/HUKA_DEER_AWG\"],\n",
    "    [\"Field Sweep +<x>/-<x> pg=200ns\",\"Field sweep +<x>/-<x>\"],\n",
    "    {\"PhaseCycle\":False},\n",
    "    {\"p0\":16,\"p1\":16,\"h\":20,\"n\":2})\n",
    "\n",
    "fs_data = xepr.acquire_scan()\n",
    "fs = FieldSweep()\n",
    "fs.import_from_dataclass(fs_data)\n",
    "fs.find_max()\n",
    "xepr.set_field(fs.field_max)\n",
    "Bc = xepr.get_field()\n",
    "fc = xepr.get_counterfreq()\n",
    "fs.plot()"
   ]
  },
  {
   "cell_type": "markdown",
   "metadata": {},
   "source": [
    "## Relaxation Experiments"
   ]
  },
  {
   "cell_type": "markdown",
   "metadata": {},
   "source": [
    "These need to be done on the normal channels. So tune the main channel"
   ]
  },
  {
   "cell_type": "code",
   "execution_count": null,
   "metadata": {},
   "outputs": [],
   "source": [
    "awg.Abort() # Make sure AWG has stopped\n",
    "po.main_run(xepr,[16,32],d0,)"
   ]
  },
  {
   "cell_type": "markdown",
   "metadata": {},
   "source": [
    "## DEER Experiments"
   ]
  },
  {
   "cell_type": "markdown",
   "metadata": {},
   "source": [
    "### Building the Waveforms"
   ]
  },
  {
   "cell_type": "code",
   "execution_count": 9,
   "metadata": {},
   "outputs": [
    {
     "data": {
      "text/plain": [
       "True"
      ]
     },
     "execution_count": 9,
     "metadata": {},
     "output_type": "execute_result"
    }
   ],
   "source": [
    "tpump = 100\n",
    "nu = [1.6+0.07,1.6+0.07+0.15]\n",
    "[p_real,p_imag] = pulses.HSorder1(12,\n",
    "                                tpump,\n",
    "                                nu,\n",
    "                                HSbeta=10,\n",
    "                                HSorder=[1,6],\n",
    "                                phase=0,\n",
    "                                scale=1)\n",
    "wave1 = ksawg.Waveform(awg,p_real)\n",
    "wave1.pulse_blanking()\n",
    "wave1.enforce_gradualrity()\n",
    "wave1.set_amp('max')\n",
    "wave1._awg_check()\n",
    "# wave1.plot().show()\n",
    "wave2 = ksawg.Waveform(awg,p_imag)\n",
    "wave2.pulse_blanking()\n",
    "wave2.enforce_gradualrity()\n",
    "wave2.set_amp('max')\n",
    "wave2._awg_check()\n",
    "# wave2.plot().show()\n",
    "\n",
    "[p_real,p_imag] = pulses.HSorder1(12,\n",
    "                                tpump,\n",
    "                                np.flip(nu),\n",
    "                                HSbeta=10,\n",
    "                                HSorder=np.flip([1,6]),\n",
    "                                phase=0,\n",
    "                                scale=1)\n",
    "wave3 = ksawg.Waveform(awg,p_real)\n",
    "wave3.pulse_blanking()\n",
    "wave3.enforce_gradualrity()\n",
    "wave3.set_amp('max')\n",
    "wave3._awg_check()\n",
    "# wave3.plot().show()\n",
    "wave4 = ksawg.Waveform(awg,p_imag)\n",
    "wave4.pulse_blanking()\n",
    "wave4.enforce_gradualrity()\n",
    "wave4.set_amp('max')\n",
    "wave4._awg_check()\n",
    "# wave4.plot().show()\n"
   ]
  },
  {
   "cell_type": "markdown",
   "metadata": {},
   "source": [
    "#### Sending Waveform to AWG"
   ]
  },
  {
   "cell_type": "code",
   "execution_count": null,
   "metadata": {},
   "outputs": [],
   "source": [
    "awg.Abort(3)\n",
    "awg.deleteAllWaveforms(3)\n",
    "wave1.define_new_waveform(1,ch=3)\n",
    "wave2.define_new_waveform(2,ch=3)\n",
    "wave1.send_waveform(1)\n",
    "wave2.send_waveform(2)"
   ]
  },
  {
   "cell_type": "code",
   "execution_count": 8,
   "metadata": {},
   "outputs": [],
   "source": [
    "# Old Code\n",
    "awg.Abort(3)\n",
    "awg.deleteAllWaveforms(3)\n",
    "awg.defineWaveform(1,3008,0,ch=3)\n",
    "awg.defineWaveform(2,3008,0,ch=3)\n",
    "awg.setWaveform(wave1,1,ch=1)\n",
    "awg.setWaveform(wave2,2,ch=1)\n",
    "awg.setWaveform(wave3,1,ch=2)\n",
    "awg.setWaveform(wave4,2,ch=2)"
   ]
  },
  {
   "cell_type": "markdown",
   "metadata": {},
   "source": [
    "### Building the Sequence Table"
   ]
  },
  {
   "cell_type": "code",
   "execution_count": 6,
   "metadata": {},
   "outputs": [
    {
     "name": "stdout",
     "output_type": "stream",
     "text": [
      "285409280\n",
      "1627586560\n"
     ]
    },
    {
     "data": {
      "text/plain": [
       "'1627586560,1,1,2,0,3007'"
      ]
     },
     "execution_count": 6,
     "metadata": {},
     "output_type": "execute_result"
    }
   ],
   "source": [
    "seq1 = ksawg.Sequence(awg)\n",
    "seq1.encode(\n",
    "    {\"data_cmd\":0,\n",
    "\"init_marker_seq\":1,\n",
    "\"marker_enable\":1,\n",
    "\"seg_adv_mode\":3,\n",
    "\"seq_loop_cnt\":1,\n",
    "\"seg_loop_cnt\":1,\n",
    "\"seg_id\":1,\n",
    "\"seg_start_offset\":0,\n",
    "\"seg_end_offset\":3007}\n",
    " )\n",
    "seq2 = ksawg.Sequence(awg)\n",
    "seq2.encode(\n",
    "    {\"data_cmd\":0,\n",
    "\"init_marker_seq\":0,\n",
    "\"end_marker_seq\":1,\n",
    "\"end_marker_sce\":1,\n",
    "\"marker_enable\":1,\n",
    "\"seg_adv_mode\":3,\n",
    "\"seq_loop_cnt\":1,\n",
    "\"seg_loop_cnt\":1,\n",
    "\"seg_id\":2,\n",
    "\"seg_start_offset\":0,\n",
    "\"seg_end_offset\":3007}\n",
    " )\n"
   ]
  },
  {
   "cell_type": "code",
   "execution_count": 7,
   "metadata": {},
   "outputs": [
    {
     "data": {
      "text/plain": [
       "'285409280,1,1,1,0,3007,1627586560,1,1,2,0,3007'"
      ]
     },
     "execution_count": 7,
     "metadata": {},
     "output_type": "execute_result"
    }
   ],
   "source": [
    "seq_table = ksawg.SequenceTable(awg)\n",
    "seq_table.table = [seq1,seq2]\n",
    "seq_table.write_to_str()"
   ]
  },
  {
   "cell_type": "code",
   "execution_count": 10,
   "metadata": {},
   "outputs": [],
   "source": [
    "awg.resetSequenceTable()\n",
    "awg.setSequenceTable(seq_table,0,3)"
   ]
  }
 ],
 "metadata": {
  "interpreter": {
   "hash": "15a432233acb7f6ca90fc891962f223af068d0104bc692f19fb7fd94d7e2562f"
  },
  "kernelspec": {
   "display_name": "Python 3.9.7 ('AD_dev')",
   "language": "python",
   "name": "python3"
  },
  "language_info": {
   "codemirror_mode": {
    "name": "ipython",
    "version": 3
   },
   "file_extension": ".py",
   "mimetype": "text/x-python",
   "name": "python",
   "nbconvert_exporter": "python",
   "pygments_lexer": "ipython3",
   "version": "3.9.7"
  },
  "orig_nbformat": 4
 },
 "nbformat": 4,
 "nbformat_minor": 2
}
