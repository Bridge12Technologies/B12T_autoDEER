{
 "cells": [
  {
   "cell_type": "markdown",
   "metadata": {},
   "source": [
    "# 5pDEER DEMO\n",
    " The aim of this script is to set out the basic design/implementation for running incoherent pump pulses on the C Floor AWG."
   ]
  },
  {
   "cell_type": "code",
   "execution_count": 1,
   "metadata": {},
   "outputs": [],
   "source": [
    "import numpy as np\n",
    "import matplotlib.pyplot as plt\n",
    "import autoDeer.hardware.keysight_awg as ksawg\n",
    "import autoDeer.hardware.pulses as pulses\n",
    "import autoDeer.hardware.xepr_experiments as exp\n",
    "import autoDeer.hardware.awg_experiments as awg_exp\n",
    "from autoDeer.ResPro import resonatorProfile\n",
    "from autoDeer.FieldSweep import FieldSweep\n",
    "from autoDeer.hardware import xepr_api as api\n",
    "import autoDeer.Param_Optimization as po\n",
    "import time\n"
   ]
  },
  {
   "cell_type": "markdown",
   "metadata": {},
   "source": [
    "## Setup"
   ]
  },
  {
   "cell_type": "markdown",
   "metadata": {},
   "source": [
    "### Connecting to the AWG\n",
    "The Sequencing mode on both channels should be \"STSC\""
   ]
  },
  {
   "cell_type": "code",
   "execution_count": 2,
   "metadata": {},
   "outputs": [
    {
     "name": "stdout",
     "output_type": "stream",
     "text": [
      "Socket Created\n",
      "Identification String: b'Agilent Technologies,M8190A,DE52200268,5.0.14.0-2\\n'\n",
      "Checking Sequencing mode:('STSC\\n', 'STSC\\n')\n"
     ]
    }
   ],
   "source": [
    "awg = ksawg.Interface()\n",
    "awg.open_con('129.132.218.87')\n",
    "awg._inst_init()\n",
    "print(f\"Checking Sequencing mode:{awg.getFunctionMode(3)}\")\n",
    "sampling_freq = 12e9\n",
    "sampling_period = 1/sampling_freq\n",
    "grad = 64\n"
   ]
  },
  {
   "cell_type": "markdown",
   "metadata": {},
   "source": [
    "## Connecting to Bruker"
   ]
  },
  {
   "cell_type": "code",
   "execution_count": 3,
   "metadata": {},
   "outputs": [],
   "source": [
    "xepr=api() # This can only be run once per kernel\n",
    "xepr.find_Xepr()\n",
    "xepr.find_cur_exp()\n",
    "xepr.find_hidden()"
   ]
  },
  {
   "cell_type": "code",
   "execution_count": 30,
   "metadata": {},
   "outputs": [],
   "source": [
    "# This sets up the configuration file of spectrometer\n",
    "if xepr.hidden['PlsPrgCalDbName'].value != 'Q_awgins2013':\n",
    "    xepr.hidden['PlsPrgCalDbName'].value = 'Q_awgins2013'\n",
    "    xepr.hidden['PlsPrgCalDbLoad']\n",
    "    xepr.hidden['ApplyCfg']"
   ]
  },
  {
   "cell_type": "code",
   "execution_count": 35,
   "metadata": {},
   "outputs": [
    {
     "data": {
      "text/plain": [
       "11820.0"
      ]
     },
     "execution_count": 35,
     "metadata": {},
     "output_type": "execute_result"
    }
   ],
   "source": [
    "xepr.set_field(11820)"
   ]
  },
  {
   "cell_type": "markdown",
   "metadata": {},
   "source": [
    "## Initial Tuning of MPFU Channel"
   ]
  },
  {
   "cell_type": "code",
   "execution_count": 37,
   "metadata": {},
   "outputs": [],
   "source": [
    "exp.run_general(xepr,\n",
    "    [\"/PulseSpel/HUKA_DEER_AWG\"],\n",
    "    [\"pi/2 tp=p1 +<x>/-<x>\",\"+<x> (pi/2)\"],\n",
    "    {\"PhaseCycle\":False},\n",
    "    {\"p0\":16,\"p1\":16,\"h\":20,\"n\":2})\n"
   ]
  },
  {
   "cell_type": "markdown",
   "metadata": {},
   "source": [
    "## Resonator Profile\n",
    "\n",
    "Go to the central frequency of the dip.\n",
    "Find the rough field maximum and tune +-\\<x\\> channels for 16ns pulses"
   ]
  },
  {
   "cell_type": "code",
   "execution_count": 27,
   "metadata": {},
   "outputs": [],
   "source": [
    "xepr.cur_exp['CenterField'].value = 8000"
   ]
  },
  {
   "cell_type": "code",
   "execution_count": 38,
   "metadata": {},
   "outputs": [],
   "source": [
    "exp.run_general(xepr,\n",
    "    [\"/PulseSpel/HUKA_DEER_AWG\"],\n",
    "    [\"Field Sweep +<x>/-<x> pg=200ns\",\"Field sweep +<x>/-<x>\"],\n",
    "    {\"PhaseCycle\":False,\"ReplaceMode\":False},\n",
    "    {\"p0\":16,\"p1\":16,\"h\":25,\"n\":1,\"d0\":600})\n",
    "\n",
    "time.sleep(10)\n",
    "\n"
   ]
  },
  {
   "cell_type": "code",
   "execution_count": 53,
   "metadata": {},
   "outputs": [
    {
     "ename": "ZeroDivisionError",
     "evalue": "float division by zero",
     "output_type": "error",
     "traceback": [
      "\u001b[0;31m---------------------------------------------------------------------------\u001b[0m",
      "\u001b[0;31mZeroDivisionError\u001b[0m                         Traceback (most recent call last)",
      "Input \u001b[0;32mIn [53]\u001b[0m, in \u001b[0;36m<cell line: 11>\u001b[0;34m()\u001b[0m\n\u001b[1;32m      8\u001b[0m fc \u001b[38;5;241m=\u001b[39m xepr\u001b[38;5;241m.\u001b[39mget_counterfreq()\n\u001b[1;32m     10\u001b[0m fs\u001b[38;5;241m.\u001b[39mplot()\n\u001b[0;32m---> 11\u001b[0m gyro_exp \u001b[38;5;241m=\u001b[39m \u001b[43mfc\u001b[49m\u001b[38;5;241;43m/\u001b[39;49m\u001b[43mBc\u001b[49m\n\u001b[1;32m     12\u001b[0m \u001b[38;5;28mprint\u001b[39m(gyro_exp)\n",
      "\u001b[0;31mZeroDivisionError\u001b[0m: float division by zero"
     ]
    },
    {
     "data": {
      "image/png": "[encoded data removed]",
      "text/plain": [
       "<Figure size 432x288 with 1 Axes>"
      ]
     },
     "metadata": {
      "needs_background": "light"
     },
     "output_type": "display_data"
    }
   ],
   "source": [
    "fs_data = xepr.acquire_scan()\n",
    "fs = FieldSweep()\n",
    "fs.import_from_dataclass(fs_data)\n",
    "fs.find_max()\n",
    "\n",
    "xepr.set_field(fs.max_field)\n",
    "Bc = xepr.get_field()\n",
    "fc = xepr.get_counterfreq()\n",
    "\n",
    "fs.plot()\n",
    "gyro_exp = fc/Bc\n",
    "print(gyro_exp)"
   ]
  },
  {
   "cell_type": "markdown",
   "metadata": {},
   "source": [
    "Confirm that two consecutive nutation experiments produce the same result. This confirms that everything is set up correctly."
   ]
  },
  {
   "cell_type": "code",
   "execution_count": 40,
   "metadata": {},
   "outputs": [
    {
     "name": "stdout",
     "output_type": "stream",
     "text": [
      "Progress: |################### |128 out of 128\r"
     ]
    }
   ],
   "source": [
    "awg_exp.sequence_nutation(awg,1,1,128,20)"
   ]
  },
  {
   "cell_type": "code",
   "execution_count": 41,
   "metadata": {},
   "outputs": [],
   "source": [
    "awg.Abort()\n",
    "awg.StartSigGen(3)"
   ]
  },
  {
   "cell_type": "code",
   "execution_count": 42,
   "metadata": {},
   "outputs": [
    {
     "name": "stderr",
     "output_type": "stream",
     "text": [
      "No artists with labels found to put in legend.  Note that artists whose label start with an underscore are ignored when legend() is called with no argument.\n"
     ]
    },
    {
     "data": {
      "text/plain": [
       "<matplotlib.legend.Legend at 0x7fa1deb5e2c0>"
      ]
     },
     "execution_count": 42,
     "metadata": {},
     "output_type": "execute_result"
    },
    {
     "data": {
      "image/png": "[encoded data removed]",
      "text/plain": [
       "<Figure size 432x288 with 1 Axes>"
      ]
     },
     "metadata": {
      "needs_background": "light"
     },
     "output_type": "display_data"
    }
   ],
   "source": [
    "exp.run_general(xepr,\n",
    "    [\"/PulseSpel/HUKA_DEER_AWG\"],\n",
    "    [\"AWG seq inv (p2)\",\"AWG +-<x> obs\"],\n",
    "    {\"PhaseCycle\":True},\n",
    "    {\"p0\":16,\"p1\":16,\"h\":10,\"n\":1,\"d0\":580},False)\n",
    "\n",
    "time.sleep(2)\n",
    "xepr.run_exp()\n",
    "time.sleep(2)\n",
    "run1 = xepr.acquire_scan()\n",
    "\n",
    "xepr.run_exp()\n",
    "time.sleep(2)\n",
    "run2 = xepr.acquire_scan()\n",
    "plt.plot(run1.time,np.real(run1.data),\n",
    "        run2.time,np.real(run2.data))\n",
    "plt.legend()"
   ]
  },
  {
   "cell_type": "markdown",
   "metadata": {},
   "source": [
    "Now run the resonator profile script"
   ]
  },
  {
   "cell_type": "code",
   "execution_count": 43,
   "metadata": {},
   "outputs": [
    {
     "name": "stdout",
     "output_type": "stream",
     "text": [
      "Progress: |################### |49 out of 50\r"
     ]
    }
   ],
   "source": [
    "t,nutation_data = exp.get_nutations(xepr,\n",
    "                                    nu=[33, 34],\n",
    "                                    field=[fc,Bc],\n",
    "                                    step=20e-3)"
   ]
  },
  {
   "cell_type": "code",
   "execution_count": 8,
   "metadata": {},
   "outputs": [
    {
     "data": {
      "text/plain": [
       "2915.0"
      ]
     },
     "execution_count": 8,
     "metadata": {},
     "output_type": "execute_result"
    }
   ],
   "source": [
    "xepr.hidden['Frequency'].value"
   ]
  },
  {
   "cell_type": "markdown",
   "metadata": {},
   "source": [
    "Finding and fitting the resonator profile"
   ]
  },
  {
   "cell_type": "code",
   "execution_count": 44,
   "metadata": {},
   "outputs": [
    {
     "name": "stderr",
     "output_type": "stream",
     "text": [
      "/home/xuser/Desktop/huka/autoDeer/autoDeer/ResPro.py:117: RuntimeWarning: divide by zero encountered in true_divide\n",
      "  z = self.q * (frq**2 -self.fc**2)/(frq*self.fc)\n",
      "/home/xuser/Desktop/huka/autoDeer/autoDeer/ResPro.py:118: RuntimeWarning: invalid value encountered in multiply\n",
      "  model = (1-z*1j )/ (1 + z**2) # Lorentzian = 1-zj/(1+z^2)\n",
      "/home/xuser/Desktop/huka/autoDeer/autoDeer/ResPro.py:118: RuntimeWarning: invalid value encountered in true_divide\n",
      "  model = (1-z*1j )/ (1 + z**2) # Lorentzian = 1-zj/(1+z^2)\n",
      "/home/xuser/Desktop/huka/autoDeer/autoDeer/ResPro.py:155: RuntimeWarning: divide by zero encountered in log\n",
      "  h_pha = np.imag(hilbert(-np.log(habs)))\n",
      "/home/xuser/miniconda3/envs/autodeer/lib/python3.9/site-packages/scipy/signal/signaltools.py:2300: RuntimeWarning: invalid value encountered in multiply\n",
      "  x = sp_fft.ifft(Xf * h, axis=axis)\n"
     ]
    },
    {
     "data": {
      "image/png": "[encoded data removed]",
      "text/plain": [
       "<Figure size 432x288 with 1 Axes>"
      ]
     },
     "execution_count": 44,
     "metadata": {},
     "output_type": "execute_result"
    },
    {
     "data": {
      "image/png": "[encoded data removed]",
      "text/plain": [
       "<Figure size 432x288 with 1 Axes>"
      ]
     },
     "metadata": {
      "needs_background": "light"
     },
     "output_type": "display_data"
    }
   ],
   "source": [
    "rp = resonatorProfile()\n",
    "res_prof = rp.calc_res_prof(nutation_data,dt=t[1]-t[0])\n",
    "rp.autofit([33,35])\n",
    "rp.calculate_shape(res_prof,None)\n",
    "rp.calc_IF_prof(2,rp.fc,type='fit')\n",
    "rp.res_prof_plot([33,35])\n"
   ]
  },
  {
   "cell_type": "markdown",
   "metadata": {},
   "source": [
    "Now go to the calculated fc, and do another field sweep. This is the new central frequency"
   ]
  },
  {
   "cell_type": "code",
   "execution_count": 58,
   "metadata": {},
   "outputs": [
    {
     "name": "stdout",
     "output_type": "stream",
     "text": [
      "fc = 33.77 GHz\n",
      "Bc = 12050 G\n"
     ]
    },
    {
     "data": {
      "text/plain": [
       "12050.45"
      ]
     },
     "execution_count": 58,
     "metadata": {},
     "output_type": "execute_result"
    }
   ],
   "source": [
    "print(f\"fc = {rp.fc:.2f} GHz\")\n",
    "print(f\"Bc = {rp.fc/0.0028024:.0f} G\")\n",
    "xepr.set_freq(rp.fc)\n",
    "xepr.set_field(rp.fc/0.0028024)\n"
   ]
  },
  {
   "cell_type": "code",
   "execution_count": null,
   "metadata": {},
   "outputs": [],
   "source": [
    "exp.run_general(xepr,\n",
    "    [\"/PulseSpel/HUKA_DEER_AWG\"],\n",
    "    [\"Field Sweep +<x>/-<x> pg=200ns\",\"Field sweep +<x>/-<x>\"],\n",
    "    {\"PhaseCycle\":False},\n",
    "    {\"p0\":16,\"p1\":16,\"h\":20,\"n\":2,\"d0\":600})\n",
    "\n",
    "time.sleep(10)"
   ]
  },
  {
   "cell_type": "code",
   "execution_count": 65,
   "metadata": {},
   "outputs": [
    {
     "name": "stdout",
     "output_type": "stream",
     "text": [
      "Bc = 11988\n",
      "Gyro = 2.817\n"
     ]
    },
    {
     "data": {
      "image/png": "[encoded data removed]",
      "text/plain": [
       "<Figure size 432x288 with 1 Axes>"
      ]
     },
     "metadata": {
      "needs_background": "light"
     },
     "output_type": "display_data"
    }
   ],
   "source": [
    "fs_data = xepr.acquire_scan()\n",
    "fs = FieldSweep()\n",
    "fs.import_from_dataclass(fs_data)\n",
    "fs.find_max()\n",
    "\n",
    "xepr.set_field(fs.max_field)\n",
    "Bc = xepr.get_field()\n",
    "fc = xepr.get_counterfreq()\n",
    "\n",
    "fs.plot()\n",
    "gyro_exp = fc/(Bc/1000)\n",
    "print(f\"Bc = {Bc:.0f}\")\n",
    "print(f\"Gyro = {gyro_exp:.3f}\")"
   ]
  },
  {
   "cell_type": "markdown",
   "metadata": {},
   "source": [
    "## Relaxation Experiments"
   ]
  },
  {
   "cell_type": "markdown",
   "metadata": {},
   "source": [
    "These need to be done on the normal channels. So tune the main channel"
   ]
  },
  {
   "cell_type": "code",
   "execution_count": null,
   "metadata": {},
   "outputs": [],
   "source": [
    "awg.Abort() # Make sure AWG has stopped\n",
    "po.main_run(xepr,[16,32],d0,)\n"
   ]
  },
  {
   "cell_type": "markdown",
   "metadata": {
    "tags": []
   },
   "source": [
    "## DEER Experiments"
   ]
  },
  {
   "cell_type": "markdown",
   "metadata": {},
   "source": [
    "Now we need to setup the 5pDEER experiment. For this to work we need to setup the pulses for the observer channel, there is no need to setup the AWG pulses"
   ]
  },
  {
   "cell_type": "code",
   "execution_count": 74,
   "metadata": {},
   "outputs": [],
   "source": [
    "# Set the frequency and field tempoarily to the observer position.\n",
    "fobs = fc - 0.07\n",
    "xepr.set_freq(fobs)\n",
    "xepr.set_field(fobs/gyro_exp * 10000)\n",
    "# +<x>\n",
    "exp.run_general(xepr,\n",
    "    [\"/PulseSpel/HUKA_DEER_AWG\"],\n",
    "    [\"pi/2 tp=p1 +<x>/-<x>\",\"+<x> (pi/2)\"],\n",
    "    {\"PhaseCycle\":False},\n",
    "    {\"p0\":16,\"p1\":16,\"h\":20,\"n\":2})\n"
   ]
  },
  {
   "cell_type": "code",
   "execution_count": 75,
   "metadata": {},
   "outputs": [],
   "source": [
    "# -<x>\n",
    "exp.run_general(xepr,\n",
    "    [\"/PulseSpel/HUKA_DEER_AWG\"],\n",
    "    [\"pi/2 tp=p1 +<x>/-<x>\",\"-<x> (pi/2)\"],\n",
    "    {\"PhaseCycle\":False},\n",
    "    {\"p0\":16,\"p1\":16,\"h\":20,\"n\":2})\n"
   ]
  },
  {
   "cell_type": "code",
   "execution_count": 91,
   "metadata": {},
   "outputs": [],
   "source": [
    "# -<y>\n",
    "# This is tunned to be in phase with +<x> i.e. Real echo up\n",
    "exp.run_general(xepr,\n",
    "    [\"/PulseSpel/HUKA_DEER_AWG\"],\n",
    "    [\"pi tp=p1 -<y>\",\"-<y> echo up!\"],\n",
    "    {\"PhaseCycle\":False},\n",
    "    {\"p0\":16,\"p1\":16,\"h\":20,\"n\":2})\n"
   ]
  },
  {
   "cell_type": "code",
   "execution_count": 81,
   "metadata": {},
   "outputs": [],
   "source": [
    "d0 = 610"
   ]
  },
  {
   "cell_type": "code",
   "execution_count": 84,
   "metadata": {},
   "outputs": [],
   "source": [
    "tau2 = 500\n",
    "deadtime = 80\n",
    "scans = 200\n",
    "exp.run_general(xepr,\n",
    "    [\"/PulseSpel/HUKA_DEER_AWG\"],\n",
    "    [\"5p DEER\",\"DEER run AWG -+<x>\"],\n",
    "    {\"PhaseCycle\":True,\"ReplaceMode\":False},\n",
    "    {\"p0\":16,\"p1\":16,\"h\":20,\"n\":scans,\"d2\":tau2,\"d11\":200,\"d3\":deadtime,\"d0\":d0,\"dim8\":10})\n"
   ]
  },
  {
   "cell_type": "code",
   "execution_count": 101,
   "metadata": {},
   "outputs": [
    {
     "data": {
      "text/plain": [
       "12005.75"
      ]
     },
     "execution_count": 101,
     "metadata": {},
     "output_type": "execute_result"
    }
   ],
   "source": [
    "# Set the Bm\n",
    "fpump = fc + 0.05\n",
    "xepr.set_freq(fobs)\n",
    "xepr.set_field(fpump/gyro_exp * 10000)"
   ]
  },
  {
   "cell_type": "code",
   "execution_count": 102,
   "metadata": {},
   "outputs": [
    {
     "data": {
      "text/plain": [
       "[array([ 0.        +0.01347528j,  0.01200864+0.00635825j,\n",
       "         0.01133245-0.00770152j, ..., -0.00762846-0.01363418j,\n",
       "        -0.01470207+0.00228322j, -0.00284125+0.01387525j]),\n",
       " array([ 0.        +0.01347528j,  0.01327334+0.00493631j,\n",
       "         0.00972068-0.01126151j, ..., -0.01084808-0.0085564j ,\n",
       "        -0.01253311+0.00553703j, -0.00096312+0.01355386j])]"
      ]
     },
     "execution_count": 102,
     "metadata": {},
     "output_type": "execute_result"
    }
   ],
   "source": [
    "# Building the HS pulses and sending them to the AWG\n",
    "awg_exp.deer_pulse_5p(awg,100,[2.07,2.32])"
   ]
  },
  {
   "cell_type": "code",
   "execution_count": 103,
   "metadata": {},
   "outputs": [],
   "source": [
    "tau2 = 1500\n",
    "deadtime = 80\n",
    "scans = 200\n",
    "step = 16\n",
    "dim = np.floor((tau2 * 2 - deadtime)/step)\n",
    "awg.StartSigGen(3)\n",
    "exp.run_general(xepr,\n",
    "    [\"/PulseSpel/HUKA_DEER_AWG\"],\n",
    "    [\"5p DEER\",\"DEER run AWG -+<x>\"],\n",
    "    {\"PhaseCycle\":True,\"ReplaceMode\":False},\n",
    "    {\"p0\":16,\"p1\":16,\"h\":20,\"n\":scans,\"d2\":tau2,\"d11\":200,\"d3\":deadtime,\"d0\":d0,\"dim8\":dim},\n",
    "               run=False)\n"
   ]
  },
  {
   "cell_type": "code",
   "execution_count": 98,
   "metadata": {},
   "outputs": [],
   "source": [
    "exp.run_general(xepr,\n",
    "    [\"/PulseSpel/HUKA_DEER_AWG\"],\n",
    "    [\"5p DEER\",\"DEER run AWG -+<x>\"],\n",
    "    {\"PhaseCycle\":True,\"ReplaceMode\":False},\n",
    "    {\"p0\":16,\"p1\":16,\"h\":50,\"d2\":tau2,\"d11\":200,\"d3\":deadtime,\"d0\":d0,\"dim8\":dim},\n",
    "               run=False)\n"
   ]
  },
  {
   "cell_type": "code",
   "execution_count": 99,
   "metadata": {},
   "outputs": [
    {
     "data": {
      "text/plain": [
       "182.0"
      ]
     },
     "execution_count": 99,
     "metadata": {},
     "output_type": "execute_result"
    }
   ],
   "source": [
    "dim"
   ]
  },
  {
   "cell_type": "code",
   "execution_count": null,
   "metadata": {},
   "outputs": [],
   "source": []
  }
 ],
 "metadata": {
  "interpreter": {
   "hash": "15a432233acb7f6ca90fc891962f223af068d0104bc692f19fb7fd94d7e2562f"
  },
  "kernelspec": {
   "display_name": "Python 3 with Fil",
   "language": "python",
   "name": "filprofile"
  },
  "language_info": {
   "codemirror_mode": {
    "name": "ipython",
    "version": 3
   },
   "file_extension": ".py",
   "mimetype": "text/x-python",
   "name": "python",
   "nbconvert_exporter": "python",
   "pygments_lexer": "ipython3",
   "version": "3.9.12"
  }
 },
 "nbformat": 4,
 "nbformat_minor": 4
}
